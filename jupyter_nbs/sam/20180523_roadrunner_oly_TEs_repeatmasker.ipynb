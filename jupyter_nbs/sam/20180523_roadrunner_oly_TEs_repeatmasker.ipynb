{
 "cells": [
  {
   "cell_type": "code",
   "execution_count": 1,
   "metadata": {},
   "outputs": [
    {
     "name": "stdout",
     "output_type": "stream",
     "text": [
      "TODAY'S DATE:\n",
      "Wed May 23 09:58:07 PDT 2018\n",
      "------------\n",
      "\n",
      "Distributor ID:\tUbuntu\n",
      "Description:\tUbuntu 16.04.4 LTS\n",
      "Release:\t16.04\n",
      "Codename:\txenial\n",
      "\n",
      "------------\n",
      "HOSTNAME: \n",
      "roadrunner\n",
      "\n",
      "------------\n",
      "Computer Specs:\n",
      "\n",
      "Architecture:          x86_64\n",
      "CPU op-mode(s):        32-bit, 64-bit\n",
      "Byte Order:            Little Endian\n",
      "CPU(s):                16\n",
      "On-line CPU(s) list:   0-15\n",
      "Thread(s) per core:    2\n",
      "Core(s) per socket:    4\n",
      "Socket(s):             2\n",
      "NUMA node(s):          1\n",
      "Vendor ID:             GenuineIntel\n",
      "CPU family:            6\n",
      "Model:                 26\n",
      "Model name:            Intel(R) Xeon(R) CPU           E5520  @ 2.27GHz\n",
      "Stepping:              5\n",
      "CPU MHz:               2394.000\n",
      "CPU max MHz:           2394.0000\n",
      "CPU min MHz:           1596.0000\n",
      "BogoMIPS:              4521.78\n",
      "Virtualization:        VT-x\n",
      "L1d cache:             32K\n",
      "L1i cache:             32K\n",
      "L2 cache:              256K\n",
      "L3 cache:              8192K\n",
      "NUMA node0 CPU(s):     0-15\n",
      "Flags:                 fpu vme de pse tsc msr pae mce cx8 apic sep mtrr pge mca cmov pat pse36 clflush dts acpi mmx fxsr sse sse2 ss ht tm pbe syscall nx rdtscp lm constant_tsc arch_perfmon pebs bts nopl xtopology nonstop_tsc aperfmperf pni dtes64 monitor ds_cpl vmx est tm2 ssse3 cx16 xtpr pdcm dca sse4_1 sse4_2 popcnt lahf_lm kaiser tpr_shadow vnmi flexpriority ept vpid dtherm ida\n",
      "\n",
      "------------\n",
      "\n",
      "Memory Specs\n",
      "\n",
      "              total        used        free      shared  buff/cache   available\n",
      "Mem:            47G        419M         40G         50M        6.5G         46G\n",
      "Swap:           47G          0B         47G\n"
     ]
    },
    {
     "name": "stderr",
     "output_type": "stream",
     "text": [
      "No LSB modules are available.\n"
     ]
    }
   ],
   "source": [
    "%%bash\n",
    "echo \"TODAY'S DATE:\"\n",
    "date\n",
    "echo \"------------\"\n",
    "echo \"\"\n",
    "lsb_release -a #Display operating system info\n",
    "echo \"\"\n",
    "echo \"------------\"\n",
    "echo \"HOSTNAME: \"; hostname \n",
    "echo \"\"\n",
    "echo \"------------\"\n",
    "echo \"Computer Specs:\"\n",
    "echo \"\"\n",
    "lscpu\n",
    "echo \"\"\n",
    "echo \"------------\"\n",
    "echo \"\"\n",
    "echo \"Memory Specs\"\n",
    "echo \"\"\n",
    "free -mh"
   ]
  },
  {
   "cell_type": "code",
   "execution_count": 2,
   "metadata": {
    "collapsed": true
   },
   "outputs": [],
   "source": [
    "%%bash\n",
    "mkdir /home/sam/analyses/20180523_oly_repeatmasker"
   ]
  },
  {
   "cell_type": "code",
   "execution_count": 3,
   "metadata": {},
   "outputs": [
    {
     "name": "stderr",
     "output_type": "stream",
     "text": [
      "cp: cannot stat '/mnt/owl/Athaliana/20171130_oly_pbjelly/jelly.out.fasta': No such file or directory\n"
     ]
    }
   ],
   "source": [
    "%%bash\n",
    "mkdir /home/sam/data/oly_assemblies\n",
    "cp /mnt/owl/Athaliana/20171130_oly_pbjelly/jelly.out.fasta /home/sam/data/oly_assemblies"
   ]
  },
  {
   "cell_type": "markdown",
   "metadata": {},
   "source": [
    "Forgot that I had restarted roadrunner - need to re-mount owl...\n",
    "\n",
    "Needs ```sudo``` so will re-run outside of notebook."
   ]
  },
  {
   "cell_type": "markdown",
   "metadata": {},
   "source": [
    "##### Copy Olympia oyster assembly: [pbjelly_sjw_01](https://github.com/RobertsLab/project-olympia.oyster-genomic/wiki/Genome-Assemblies)"
   ]
  },
  {
   "cell_type": "code",
   "execution_count": 4,
   "metadata": {},
   "outputs": [
    {
     "name": "stderr",
     "output_type": "stream",
     "text": [
      "\n",
      "real\t0m18.276s\n",
      "user\t0m0.000s\n",
      "sys\t0m1.368s\n"
     ]
    }
   ],
   "source": [
    "%%bash\n",
    "time \\\n",
    "cp /mnt/owl/Athaliana/20171130_oly_pbjelly/jelly.out.fasta /home/sam/data/oly_assemblies"
   ]
  },
  {
   "cell_type": "code",
   "execution_count": 5,
   "metadata": {},
   "outputs": [
    {
     "name": "stdout",
     "output_type": "stream",
     "text": [
      "total 1233740\n",
      "-rw-rw-r-- 1 sam sam 1263344875 May 23 10:13 jelly.out.fasta\n"
     ]
    }
   ],
   "source": [
    "%%bash\n",
    "ls -l /home/sam/data/oly_assemblies/"
   ]
  },
  {
   "cell_type": "code",
   "execution_count": 6,
   "metadata": {
    "collapsed": true
   },
   "outputs": [],
   "source": [
    "%%bash\n",
    "mv /home/sam/analyses/20180523_oly_repeatmasker \\\n",
    "/home/sam/analyses/20180523_oly_repeatmasker_pbjelly_sjw_01-01"
   ]
  },
  {
   "cell_type": "markdown",
   "metadata": {},
   "source": [
    "\n"
   ]
  },
  {
   "cell_type": "code",
   "execution_count": null,
   "metadata": {
    "collapsed": true
   },
   "outputs": [],
   "source": [
    "%%bash\n",
    "time \\\n",
    "/home/shared/RepeatMasker-4.0.7/RepeatMasker \\\n",
    "/home/sam/data/oly_assemblies/jelly.out.fasta \\\n",
    "-par 15 \\\n",
    "-gff \\\n",
    "-excln \\\n",
    "1> /home/sam/analyses/20180523_oly_repeatmasker_pbjelly_sjw_01-01/stdout.out \\\n",
    "2> /home/sam/analyses/20180523_oly_repeatmasker_pbjelly_sjw_01-01/stderr.err\n",
    "sed '/^Subject:/ s/ / repeatmasker JOB COMPLETE/' ~/.default-subject.mail | msmtp \"$EMAIL\""
   ]
  },
  {
   "cell_type": "code",
   "execution_count": null,
   "metadata": {
    "collapsed": true
   },
   "outputs": [],
   "source": [
    "%%bash\n",
    "echo \"------------\"\n",
    "echo \"STANDARD OUT\"\n",
    "echo \"------------\"\n",
    "tail /home/sam/analyses/20180523_oly_repeatmasker_pbjelly_sjw_01-01/stdout.out\n",
    "\n",
    "echo \"\"\n",
    "echo \"\"\n",
    "\n",
    "echo \"------------\"\n",
    "echo \"STANDARD ERROR\"\n",
    "echo \"------------\"\n",
    "tail /home/sam/analyses/20180523_oly_repeatmasker_pbjelly_sjw_01-01/stderr.err\n",
    "\n",
    "echo \"\"\n",
    "echo \"\"\n",
    "\n",
    "echo \"------------\"\n",
    "echo \"REPEATMASKER TABLE\"\n",
    "echo \"------------\"\n",
    "cat /home/sam/analyses/20180523_oly_repeatmasker_pbjelly_sjw_01-01/jelly.out.fasta.tbl"
   ]
  },
  {
   "cell_type": "markdown",
   "metadata": {},
   "source": [
    "##### Run RepeatMasker with _Crassostrea gigas_ species setting and following options:\n",
    "\n",
    "- ```-species \"crassostrea gigas\"```\n",
    "\n",
    "- ```-par 15``` : Use 15 CPU threads\n",
    "\n",
    "- ```-gff``` : Create GFF output file (in addition to default files)\n",
    "\n",
    "- ```-excln``` : Adjusts output table calculations to exclude sequence runs of >=25Ns. Useful for draft genome assemblies.\n",
    "\n",
    "- ```1>``` : Send stdout to file instead of printing to notebook.\n",
    "\n",
    "- ```2>``` : Send stderr to file instead of printing to notebook."
   ]
  },
  {
   "cell_type": "code",
   "execution_count": null,
   "metadata": {
    "collapsed": true
   },
   "outputs": [],
   "source": [
    "%%bash\n",
    "mkdir /home/sam/analyses/20180523_oly_repeatmasker_pbjelly_sjw_01-02\n",
    "time \\\n",
    "/home/shared/RepeatMasker-4.0.7/RepeatMasker \\\n",
    "/home/sam/data/oly_assemblies/jelly.out.fasta \\\n",
    "-species \"crassostrea gigas\" \\\n",
    "-par 15 \\\n",
    "-gff \\\n",
    "-excln \\\n",
    "1> /home/sam/analyses/20180523_oly_repeatmasker_pbjelly_sjw_01-02/stdout.out \\\n",
    "2> /home/sam/analyses/20180523_oly_repeatmasker_pbjelly_sjw_01-02/stderr.err\n",
    "\n",
    "sed '/^Subject:/ s/ / repeatmasker JOB COMPLETE/' ~/.default-subject.mail | msmtp \"$EMAIL\""
   ]
  },
  {
   "cell_type": "code",
   "execution_count": null,
   "metadata": {
    "collapsed": true
   },
   "outputs": [],
   "source": [
    "%%bash\n",
    "echo \"------------\"\n",
    "echo \"STANDARD OUT\"\n",
    "echo \"------------\"\n",
    "tail /home/sam/analyses/20180523_oly_repeatmasker_pbjelly_sjw_01-02/stdout.out\n",
    "\n",
    "echo \"\"\n",
    "echo \"\"\n",
    "\n",
    "echo \"------------\"\n",
    "echo \"STANDARD ERROR\"\n",
    "echo \"------------\"\n",
    "tail /home/sam/analyses/20180523_oly_repeatmasker_pbjelly_sjw_01-02/stderr.err\n",
    "\n",
    "echo \"\"\n",
    "echo \"\"\n",
    "\n",
    "echo \"------------\"\n",
    "echo \"REPEATMASKER C.GIGAS TABLE\"\n",
    "echo \"------------\"\n",
    "cat /home/sam/analyses/20180523_oly_repeatmasker_pbjelly_sjw_01-02/jelly.out.fasta.tbl"
   ]
  },
  {
   "cell_type": "code",
   "execution_count": null,
   "metadata": {
    "collapsed": true
   },
   "outputs": [],
   "source": [
    "##### Run RepeatMasker with _Crassostrea virginica_ species setting and following options:\n",
    "\n",
    "- ```-species \"crassostrea virginica\"```\n",
    "\n",
    "- ```-par 15``` : Use 15 CPU threads\n",
    "\n",
    "- ```-gff``` : Create GFF output file (in addition to default files)\n",
    "\n",
    "- ```-excln``` : Adjusts output table calculations to exclude sequence runs of >=25Ns. Useful for draft genome assemblies.\n",
    "\n",
    "- ```1>``` : Send stdout to file instead of printing to notebook.\n",
    "\n",
    "- ```2>``` : Send stderr to file instead of printing to notebook."
   ]
  },
  {
   "cell_type": "code",
   "execution_count": null,
   "metadata": {
    "collapsed": true
   },
   "outputs": [],
   "source": [
    "%%bash\n",
    "mkdir /home/sam/analyses/20180523_oly_repeatmasker_pbjelly_sjw_01-03\n",
    "time \\\n",
    "/home/shared/RepeatMasker-4.0.7/RepeatMasker \\\n",
    "/home/sam/data/oly_assemblies/jelly.out.fasta \\\n",
    "-species \"crassostrea virginica\" \\\n",
    "-par 15 \\\n",
    "-gff \\\n",
    "-excln \\\n",
    "1> /home/sam/analyses/20180523_oly_repeatmasker_pbjelly_sjw_01-03/stdout.out \\\n",
    "2> /home/sam/analyses/20180523_oly_repeatmasker_pbjelly_sjw_01-03/stderr.err\n",
    "\n",
    "sed '/^Subject:/ s/ / repeatmasker JOB COMPLETE/' ~/.default-subject.mail | msmtp \"$EMAIL\""
   ]
  },
  {
   "cell_type": "code",
   "execution_count": null,
   "metadata": {
    "collapsed": true
   },
   "outputs": [],
   "source": [
    "%%bash\n",
    "echo \"------------\"\n",
    "echo \"STANDARD OUT\"\n",
    "echo \"------------\"\n",
    "tail /home/sam/analyses/20180523_oly_repeatmasker_pbjelly_sjw_01-02/stdout.out\n",
    "\n",
    "echo \"\"\n",
    "echo \"\"\n",
    "\n",
    "echo \"------------\"\n",
    "echo \"STANDARD ERROR\"\n",
    "echo \"------------\"\n",
    "tail /home/sam/analyses/20180523_oly_repeatmasker_pbjelly_sjw_01-02/stderr.err\n",
    "\n",
    "echo \"\"\n",
    "echo \"\"\n",
    "\n",
    "echo \"------------\"\n",
    "echo \"REPEATMASKER C.VIRGINICA TABLE\"\n",
    "echo \"------------\"\n",
    "cat /home/sam/analyses/20180523_oly_repeatmasker_pbjelly_sjw_01-02/jelly.out.fasta.tbl"
   ]
  },
  {
   "cell_type": "markdown",
   "metadata": {},
   "source": [
    "##### Run RepeatMasker with _Ostrea lurida_ species setting and following options:\n",
    "\n",
    "- ```-species \"ostrea lurid\"```\n",
    "\n",
    "- ```-par 15``` : Use 15 CPU threads\n",
    "\n",
    "- ```-gff``` : Create GFF output file (in addition to default files)\n",
    "\n",
    "- ```-excln``` : Adjusts output table calculations to exclude sequence runs of >=25Ns. Useful for draft genome assemblies.\n",
    "\n",
    "- ```1>``` : Send stdout to file instead of printing to notebook.\n",
    "\n",
    "- ```2>``` : Send stderr to file instead of printing to notebook."
   ]
  },
  {
   "cell_type": "code",
   "execution_count": null,
   "metadata": {
    "collapsed": true
   },
   "outputs": [],
   "source": [
    "%%bash\n",
    "mkdir /home/sam/analyses/20180523_oly_repeatmasker_pbjelly_sjw_01-04\n",
    "time \\\n",
    "/home/shared/RepeatMasker-4.0.7/RepeatMasker \\\n",
    "/home/sam/data/oly_assemblies/jelly.out.fasta \\\n",
    "-species \"ostrea lurida\" \\\n",
    "-par 15 \\\n",
    "-gff \\\n",
    "-excln \\\n",
    "1> /home/sam/analyses/20180523_oly_repeatmasker_pbjelly_sjw_01-04/stdout.out \\\n",
    "2> /home/sam/analyses/20180523_oly_repeatmasker_pbjelly_sjw_01-04/stderr.err\n",
    "\n",
    "sed '/^Subject:/ s/ / repeatmasker JOB COMPLETE/' ~/.default-subject.mail | msmtp \"$EMAIL\""
   ]
  },
  {
   "cell_type": "code",
   "execution_count": null,
   "metadata": {
    "collapsed": true
   },
   "outputs": [],
   "source": [
    "%%bash\n",
    "echo \"------------\"\n",
    "echo \"STANDARD OUT\"\n",
    "echo \"------------\"\n",
    "tail /home/sam/analyses/20180523_oly_repeatmasker_pbjelly_sjw_01-02/stdout.out\n",
    "\n",
    "echo \"\"\n",
    "echo \"\"\n",
    "\n",
    "echo \"------------\"\n",
    "echo \"STANDARD ERROR\"\n",
    "echo \"------------\"\n",
    "tail /home/sam/analyses/20180523_oly_repeatmasker_pbjelly_sjw_01-02/stderr.err\n",
    "\n",
    "echo \"\"\n",
    "echo \"\"\n",
    "\n",
    "echo \"------------\"\n",
    "echo \"REPEATMASKER O.LURIDA TABLE\"\n",
    "echo \"------------\"\n",
    "cat /home/sam/analyses/20180523_oly_repeatmasker_pbjelly_sjw_01-02/jelly.out.fasta.tbl"
   ]
  },
  {
   "cell_type": "code",
   "execution_count": null,
   "metadata": {
    "collapsed": true
   },
   "outputs": [],
   "source": []
  }
 ],
 "metadata": {
  "kernelspec": {
   "display_name": "Python 3",
   "language": "python",
   "name": "python3"
  },
  "language_info": {
   "codemirror_mode": {
    "name": "ipython",
    "version": 3
   },
   "file_extension": ".py",
   "mimetype": "text/x-python",
   "name": "python",
   "nbconvert_exporter": "python",
   "pygments_lexer": "ipython3",
   "version": "3.6.3"
  }
 },
 "nbformat": 4,
 "nbformat_minor": 2
}
