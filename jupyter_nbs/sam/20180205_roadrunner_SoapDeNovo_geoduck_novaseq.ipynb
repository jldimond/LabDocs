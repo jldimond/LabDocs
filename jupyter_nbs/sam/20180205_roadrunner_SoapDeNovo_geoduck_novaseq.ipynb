{
 "cells": [
  {
   "cell_type": "code",
   "execution_count": 1,
   "metadata": {},
   "outputs": [
    {
     "name": "stdout",
     "output_type": "stream",
     "text": [
      "TODAY'S DATE\n",
      "Mon Feb  5 13:50:49 PST 2018\n",
      "------------\n",
      "\n",
      "Distributor ID:\tUbuntu\n",
      "Description:\tUbuntu 16.04.3 LTS\n",
      "Release:\t16.04\n",
      "Codename:\txenial\n",
      "\n",
      "------------\n",
      "HOSTNAME: \n",
      "roadrunner\n",
      "\n",
      "------------\n",
      "Computer Specs:\n",
      "\n",
      "Architecture:          x86_64\n",
      "CPU op-mode(s):        32-bit, 64-bit\n",
      "Byte Order:            Little Endian\n",
      "CPU(s):                16\n",
      "On-line CPU(s) list:   0-15\n",
      "Thread(s) per core:    2\n",
      "Core(s) per socket:    4\n",
      "Socket(s):             2\n",
      "NUMA node(s):          1\n",
      "Vendor ID:             GenuineIntel\n",
      "CPU family:            6\n",
      "Model:                 26\n",
      "Model name:            Intel(R) Xeon(R) CPU           E5520  @ 2.27GHz\n",
      "Stepping:              5\n",
      "CPU MHz:               1596.000\n",
      "CPU max MHz:           2394.0000\n",
      "CPU min MHz:           1596.0000\n",
      "BogoMIPS:              4521.78\n",
      "Virtualization:        VT-x\n",
      "L1d cache:             32K\n",
      "L1i cache:             32K\n",
      "L2 cache:              256K\n",
      "L3 cache:              8192K\n",
      "NUMA node0 CPU(s):     0-15\n",
      "Flags:                 fpu vme de pse tsc msr pae mce cx8 apic sep mtrr pge mca cmov pat pse36 clflush dts acpi mmx fxsr sse sse2 ss ht tm pbe syscall nx rdtscp lm constant_tsc arch_perfmon pebs bts nopl xtopology nonstop_tsc aperfmperf pni dtes64 monitor ds_cpl vmx est tm2 ssse3 cx16 xtpr pdcm dca sse4_1 sse4_2 popcnt lahf_lm kaiser tpr_shadow vnmi flexpriority ept vpid dtherm ida\n",
      "\n",
      "------------\n",
      "\n",
      "Memory Specs\n",
      "\n",
      "              total        used        free      shared  buff/cache   available\n",
      "Mem:            47G        1.1G         44G         18M        1.4G         45G\n",
      "Swap:           47G          0B         47G\n"
     ]
    },
    {
     "name": "stderr",
     "output_type": "stream",
     "text": [
      "No LSB modules are available.\n"
     ]
    }
   ],
   "source": [
    "%%bash\n",
    "echo \"TODAY'S DATE\"\n",
    "date\n",
    "echo \"------------\"\n",
    "echo \"\"\n",
    "lsb_release -a\n",
    "echo \"\"\n",
    "echo \"------------\"\n",
    "echo \"HOSTNAME: \"\n",
    "hostname\n",
    "echo \"\"\n",
    "echo \"------------\"\n",
    "echo \"Computer Specs:\"\n",
    "echo \"\"\n",
    "lscpu\n",
    "echo \"\"\n",
    "echo \"------------\"\n",
    "echo \"\"\n",
    "echo \"Memory Specs\"\n",
    "echo \"\"\n",
    "free -mh"
   ]
  },
  {
   "cell_type": "code",
   "execution_count": 2,
   "metadata": {
    "collapsed": true
   },
   "outputs": [],
   "source": [
    "%%bash\n",
    "mkdir /home/sam/20180205_soap_geoduck"
   ]
  },
  {
   "cell_type": "code",
   "execution_count": 3,
   "metadata": {
    "collapsed": true
   },
   "outputs": [],
   "source": [
    "%%bash\n",
    "mkdir /home/sam/20180206_meraculous_geoduck"
   ]
  },
  {
   "cell_type": "code",
   "execution_count": 4,
   "metadata": {
    "collapsed": true
   },
   "outputs": [],
   "source": [
    "%%bash\n",
    "mkdir /home/sam/data/geoduck_illumina/trimmed/trimmed_again/20180206_kmergenie"
   ]
  },
  {
   "cell_type": "code",
   "execution_count": 5,
   "metadata": {},
   "outputs": [
    {
     "name": "stderr",
     "output_type": "stream",
     "text": [
      "mkdir: cannot create directory ‘/home/sam/data/geoduck_illumina/trimmed/20180129_trimmed_again/’: File exists\n"
     ]
    }
   ],
   "source": [
    "%%bash\n",
    "rmdir /home/sam/data/geoduck_illumina/trimmed/trimmed_again/20180206_kmergenie\n",
    "mkdir /home/sam/data/geoduck_illumina/trimmed/20180129_trimmed_again/"
   ]
  },
  {
   "cell_type": "code",
   "execution_count": 6,
   "metadata": {
    "collapsed": true
   },
   "outputs": [],
   "source": [
    "%%bash\n",
    "mkdir /home/sam/data/geoduck_illumina/trimmed/20180129_trimmed_again/20180206_kmergenie"
   ]
  },
  {
   "cell_type": "code",
   "execution_count": 7,
   "metadata": {},
   "outputs": [
    {
     "name": "stdout",
     "output_type": "stream",
     "text": [
      "/home/sam/data/geoduck_illumina/trimmed/20180129_trimmed_again/AD002_S9_L001_R1_001_val_1_val_1.fq.gz\n",
      "/home/sam/data/geoduck_illumina/trimmed/20180129_trimmed_again/AD002_S9_L001_R2_001_val_2_val_2.fq.gz\n",
      "/home/sam/data/geoduck_illumina/trimmed/20180129_trimmed_again/AD002_S9_L002_R1_001_val_1_val_1.fq.gz\n",
      "/home/sam/data/geoduck_illumina/trimmed/20180129_trimmed_again/AD002_S9_L002_R2_001_val_2_val_2.fq.gz\n",
      "/home/sam/data/geoduck_illumina/trimmed/20180129_trimmed_again/NR005_S4_L001_R1_001_val_1_val_1.fq.gz\n",
      "/home/sam/data/geoduck_illumina/trimmed/20180129_trimmed_again/NR005_S4_L001_R2_001_val_2_val_2.fq.gz\n",
      "/home/sam/data/geoduck_illumina/trimmed/20180129_trimmed_again/NR005_S4_L002_R1_001_val_1_val_1.fq.gz\n",
      "/home/sam/data/geoduck_illumina/trimmed/20180129_trimmed_again/NR005_S4_L002_R2_001_val_2_val_2.fq.gz\n",
      "/home/sam/data/geoduck_illumina/trimmed/20180129_trimmed_again/NR006_S3_L001_R1_001_val_1_val_1.fq.gz\n",
      "/home/sam/data/geoduck_illumina/trimmed/20180129_trimmed_again/NR006_S3_L001_R2_001_val_2_val_2.fq.gz\n",
      "/home/sam/data/geoduck_illumina/trimmed/20180129_trimmed_again/NR006_S3_L002_R1_001_val_1_val_1.fq.gz\n",
      "/home/sam/data/geoduck_illumina/trimmed/20180129_trimmed_again/NR006_S3_L002_R2_001_val_2_val_2.fq.gz\n",
      "/home/sam/data/geoduck_illumina/trimmed/20180129_trimmed_again/NR012_S1_L001_R1_001_val_1_val_1.fq.gz\n",
      "/home/sam/data/geoduck_illumina/trimmed/20180129_trimmed_again/NR012_S1_L001_R2_001_val_2_val_2.fq.gz\n",
      "/home/sam/data/geoduck_illumina/trimmed/20180129_trimmed_again/NR012_S1_L002_R1_001_val_1_val_1.fq.gz\n",
      "/home/sam/data/geoduck_illumina/trimmed/20180129_trimmed_again/NR012_S1_L002_R2_001_val_2_val_2.fq.gz\n",
      "/home/sam/data/geoduck_illumina/trimmed/20180129_trimmed_again/NR013_AD013_S2_L001_R1_001_val_1_val_1.fq.gz\n",
      "/home/sam/data/geoduck_illumina/trimmed/20180129_trimmed_again/NR013_AD013_S2_L001_R2_001_val_2_val_2.fq.gz\n",
      "/home/sam/data/geoduck_illumina/trimmed/20180129_trimmed_again/NR013_AD013_S2_L002_R1_001_val_1_val_1.fq.gz\n",
      "/home/sam/data/geoduck_illumina/trimmed/20180129_trimmed_again/NR013_AD013_S2_L002_R2_001_val_2_val_2.fq.gz\n",
      "/home/sam/data/geoduck_illumina/trimmed/20180129_trimmed_again/NR014_AD014_S5_L001_R1_001_val_1_val_1.fq.gz\n",
      "/home/sam/data/geoduck_illumina/trimmed/20180129_trimmed_again/NR014_AD014_S5_L001_R2_001_val_2_val_2.fq.gz\n",
      "/home/sam/data/geoduck_illumina/trimmed/20180129_trimmed_again/NR014_AD014_S5_L002_R1_001_val_1_val_1.fq.gz\n",
      "/home/sam/data/geoduck_illumina/trimmed/20180129_trimmed_again/NR014_AD014_S5_L002_R2_001_val_2_val_2.fq.gz\n",
      "/home/sam/data/geoduck_illumina/trimmed/20180129_trimmed_again/NR015_AD015_S6_L001_R1_001_val_1_val_1.fq.gz\n",
      "/home/sam/data/geoduck_illumina/trimmed/20180129_trimmed_again/NR015_AD015_S6_L001_R2_001_val_2_val_2.fq.gz\n",
      "/home/sam/data/geoduck_illumina/trimmed/20180129_trimmed_again/NR015_AD015_S6_L002_R1_001_val_1_val_1.fq.gz\n",
      "/home/sam/data/geoduck_illumina/trimmed/20180129_trimmed_again/NR015_AD015_S6_L002_R2_001_val_2_val_2.fq.gz\n",
      "/home/sam/data/geoduck_illumina/trimmed/20180129_trimmed_again/NR019_S7_L001_R1_001_val_1_val_1.fq.gz\n",
      "/home/sam/data/geoduck_illumina/trimmed/20180129_trimmed_again/NR019_S7_L001_R2_001_val_2_val_2.fq.gz\n",
      "/home/sam/data/geoduck_illumina/trimmed/20180129_trimmed_again/NR019_S7_L002_R1_001_val_1_val_1.fq.gz\n",
      "/home/sam/data/geoduck_illumina/trimmed/20180129_trimmed_again/NR019_S7_L002_R2_001_val_2_val_2.fq.gz\n",
      "/home/sam/data/geoduck_illumina/trimmed/20180129_trimmed_again/NR021_S8_L001_R1_001_val_1_val_1.fq.gz\n",
      "/home/sam/data/geoduck_illumina/trimmed/20180129_trimmed_again/NR021_S8_L001_R2_001_val_2_val_2.fq.gz\n",
      "/home/sam/data/geoduck_illumina/trimmed/20180129_trimmed_again/NR021_S8_L002_R1_001_val_1_val_1.fq.gz\n",
      "/home/sam/data/geoduck_illumina/trimmed/20180129_trimmed_again/NR021_S8_L002_R2_001_val_2_val_2.fq.gz\n"
     ]
    }
   ],
   "source": [
    "%%bash\n",
    "for fastq in /home/sam/data/geoduck_illumina/trimmed/20180129_trimmed_again/*.fq.gz\n",
    "do\n",
    "echo \"$fastq\" >> /home/sam/data/geoduck_illumina/trimmed/20180129_trimmed_again/20180206_kmergenie/fastq_list.txt\n",
    "done\n",
    "\n",
    "cat /home/sam/data/geoduck_illumina/trimmed/20180129_trimmed_again/20180206_kmergenie/fastq_list.txt"
   ]
  },
  {
   "cell_type": "code",
   "execution_count": null,
   "metadata": {
    "collapsed": true
   },
   "outputs": [],
   "source": [
    "%%bash\n",
    "cd /home/shared/kmergenie-1.7044/\n",
    "time ./kmergenie /home/sam/data/geoduck_illumina/trimmed/20180129_trimmed_again/20180206_kmergenie/fastq_list.txt\n",
    "cat ~/.default-subject.mail | msmtp \"$EMAIL\""
   ]
  },
  {
   "cell_type": "code",
   "execution_count": null,
   "metadata": {
    "collapsed": true
   },
   "outputs": [],
   "source": []
  }
 ],
 "metadata": {
  "kernelspec": {
   "display_name": "Python 3",
   "language": "python",
   "name": "python3"
  },
  "language_info": {
   "codemirror_mode": {
    "name": "ipython",
    "version": 3
   },
   "file_extension": ".py",
   "mimetype": "text/x-python",
   "name": "python",
   "nbconvert_exporter": "python",
   "pygments_lexer": "ipython3",
   "version": "3.6.3"
  }
 },
 "nbformat": 4,
 "nbformat_minor": 2
}
